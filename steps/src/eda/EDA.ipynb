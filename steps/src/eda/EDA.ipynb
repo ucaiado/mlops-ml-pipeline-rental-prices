{
 "cells": [
  {
   "cell_type": "markdown",
   "id": "c128b268",
   "metadata": {},
   "source": [
    "# Perform EDA"
   ]
  },
  {
   "cell_type": "markdown",
   "id": "d6395ac2",
   "metadata": {},
   "source": [
    "### Fetching the artifact from W&B and load it"
   ]
  },
  {
   "cell_type": "code",
   "execution_count": 1,
   "id": "8f995e3b",
   "metadata": {},
   "outputs": [
    {
     "name": "stderr",
     "output_type": "stream",
     "text": [
      "\u001b[34m\u001b[1mwandb\u001b[0m: Currently logged in as: \u001b[33mucaiado\u001b[0m (use `wandb login --relogin` to force relogin)\n",
      "\u001b[34m\u001b[1mwandb\u001b[0m: wandb version 0.12.10 is available!  To upgrade, please run:\n",
      "\u001b[34m\u001b[1mwandb\u001b[0m:  $ pip install wandb --upgrade\n"
     ]
    },
    {
     "data": {
      "text/html": [
       "\n",
       "                Tracking run with wandb version 0.10.21<br/>\n",
       "                Syncing run <strong style=\"color:#cdcd00\">breezy-leaf-4</strong> to <a href=\"https://wandb.ai\" target=\"_blank\">Weights & Biases</a> <a href=\"https://docs.wandb.com/integrations/jupyter.html\" target=\"_blank\">(Documentation)</a>.<br/>\n",
       "                Project page: <a href=\"https://wandb.ai/ucaiado/nyc_airbnb\" target=\"_blank\">https://wandb.ai/ucaiado/nyc_airbnb</a><br/>\n",
       "                Run page: <a href=\"https://wandb.ai/ucaiado/nyc_airbnb/runs/1fdlbad5\" target=\"_blank\">https://wandb.ai/ucaiado/nyc_airbnb/runs/1fdlbad5</a><br/>\n",
       "                Run data is saved locally in <code>/opt/steps/src/eda/wandb/run-20220202_035555-1fdlbad5</code><br/><br/>\n",
       "            "
      ],
      "text/plain": [
       "<IPython.core.display.HTML object>"
      ]
     },
     "metadata": {},
     "output_type": "display_data"
    }
   ],
   "source": [
    "import wandb\n",
    "import pandas as pd\n",
    "\n",
    "# Use save_code=True so the notebook is uploaded and versioned by W&B\n",
    "run = wandb.init(project=\"nyc_airbnb\", group=\"eda\", save_code=True)\n",
    "local_path = wandb.use_artifact(\"sample.csv:latest\").file()\n",
    "df = pd.read_csv(local_path)"
   ]
  },
  {
   "cell_type": "code",
   "execution_count": 2,
   "id": "c33f08c3",
   "metadata": {},
   "outputs": [
    {
     "name": "stdout",
     "output_type": "stream",
     "text": [
      "<class 'pandas.core.frame.DataFrame'>\n",
      "RangeIndex: 20000 entries, 0 to 19999\n",
      "Data columns (total 16 columns):\n",
      " #   Column                          Non-Null Count  Dtype  \n",
      "---  ------                          --------------  -----  \n",
      " 0   id                              20000 non-null  int64  \n",
      " 1   name                            19993 non-null  object \n",
      " 2   host_id                         20000 non-null  int64  \n",
      " 3   host_name                       19992 non-null  object \n",
      " 4   neighbourhood_group             20000 non-null  object \n",
      " 5   neighbourhood                   20000 non-null  object \n",
      " 6   latitude                        20000 non-null  float64\n",
      " 7   longitude                       20000 non-null  float64\n",
      " 8   room_type                       20000 non-null  object \n",
      " 9   price                           20000 non-null  int64  \n",
      " 10  minimum_nights                  20000 non-null  int64  \n",
      " 11  number_of_reviews               20000 non-null  int64  \n",
      " 12  last_review                     15877 non-null  object \n",
      " 13  reviews_per_month               15877 non-null  float64\n",
      " 14  calculated_host_listings_count  20000 non-null  int64  \n",
      " 15  availability_365                20000 non-null  int64  \n",
      "dtypes: float64(3), int64(7), object(6)\n",
      "memory usage: 2.4+ MB\n"
     ]
    }
   ],
   "source": [
    "df.info()"
   ]
  },
  {
   "cell_type": "markdown",
   "id": "76de2941",
   "metadata": {},
   "source": [
    "### Profiling data"
   ]
  },
  {
   "cell_type": "code",
   "execution_count": 3,
   "id": "c1a2ec97",
   "metadata": {},
   "outputs": [
    {
     "data": {
      "application/vnd.jupyter.widget-view+json": {
       "model_id": "ec403213d8c3443ebb250518908ebbac",
       "version_major": 2,
       "version_minor": 0
      },
      "text/plain": [
       "Summarize dataset:   0%|          | 0/29 [00:00<?, ?it/s]"
      ]
     },
     "metadata": {},
     "output_type": "display_data"
    },
    {
     "data": {
      "application/vnd.jupyter.widget-view+json": {
       "model_id": "2f35a8fb0d21433b93d059706cb235f8",
       "version_major": 2,
       "version_minor": 0
      },
      "text/plain": [
       "Generate report structure:   0%|          | 0/1 [00:00<?, ?it/s]"
      ]
     },
     "metadata": {},
     "output_type": "display_data"
    },
    {
     "data": {
      "application/vnd.jupyter.widget-view+json": {
       "model_id": "",
       "version_major": 2,
       "version_minor": 0
      },
      "text/plain": [
       "Render widgets:   0%|          | 0/1 [00:00<?, ?it/s]"
      ]
     },
     "metadata": {},
     "output_type": "display_data"
    },
    {
     "data": {
      "application/vnd.jupyter.widget-view+json": {
       "model_id": "1b403b81f23d4e07bb1a670c4d02de87",
       "version_major": 2,
       "version_minor": 0
      },
      "text/plain": [
       "VBox(children=(Tab(children=(Tab(children=(GridBox(children=(VBox(children=(GridspecLayout(children=(HTML(valu…"
      ]
     },
     "metadata": {},
     "output_type": "display_data"
    }
   ],
   "source": [
    "import pandas_profiling\n",
    "\n",
    "profile = pandas_profiling.ProfileReport(df)\n",
    "profile.to_widgets()"
   ]
  },
  {
   "cell_type": "markdown",
   "id": "3a5bf377",
   "metadata": {},
   "source": [
    "We can see that there are:\n",
    "\n",
    "1. Almost 4000 missing values in the features `last_review` and `reviews_per_month`\n",
    "2. The variable `last_review` is date, but it is encondaded as string\n",
    "2. In place of missing values, the variable `number_of_reviews` has almost 4000 zeros\n",
    "3. The variable `prices` has $\\mu=153.27$, but goes from 0 to 10000\n",
    "4. The variable `minimum_nights` has $\\mu=7$, but goes from 1 to 1250"
   ]
  },
  {
   "cell_type": "markdown",
   "id": "fac04fe3",
   "metadata": {},
   "source": [
    "### Fix some problems\n",
    "\n",
    "Missing values imputation shoud be done in the inference pipeline so\n",
    " that it is also handle in production"
   ]
  },
  {
   "cell_type": "markdown",
   "id": "524814c3",
   "metadata": {},
   "source": [
    "#### Drop outliers in price"
   ]
  },
  {
   "cell_type": "code",
   "execution_count": 4,
   "id": "22b64ed9",
   "metadata": {},
   "outputs": [
    {
     "data": {
      "text/plain": [
       "count    20000.000000\n",
       "mean       153.269050\n",
       "std        243.325609\n",
       "min          0.000000\n",
       "1%          30.000000\n",
       "5%          40.000000\n",
       "10%         49.000000\n",
       "25%         69.000000\n",
       "50%        105.000000\n",
       "75%        175.000000\n",
       "95%        350.000000\n",
       "99%        800.000000\n",
       "max      10000.000000\n",
       "Name: price, dtype: float64"
      ]
     },
     "execution_count": 4,
     "metadata": {},
     "output_type": "execute_result"
    }
   ],
   "source": [
    "df['price'].describe(percentiles=(0.01, 0.05, 0.1, 0.25, 0.5, 0.75, 0.95, 0.99))"
   ]
  },
  {
   "cell_type": "code",
   "execution_count": 5,
   "id": "8e06d170",
   "metadata": {},
   "outputs": [],
   "source": [
    "# Drop outliers in prices\n",
    "min_price = 10  # it is resonable\n",
    "max_price = 350\n",
    "idx = df['price'].between(min_price, max_price)\n",
    "df = df[idx].copy()"
   ]
  },
  {
   "cell_type": "markdown",
   "id": "073fbc2e",
   "metadata": {},
   "source": [
    "#### Drop outliers in minimum_nights"
   ]
  },
  {
   "cell_type": "code",
   "execution_count": 6,
   "id": "c7ab113d",
   "metadata": {},
   "outputs": [
    {
     "data": {
      "text/plain": [
       "count    19001.000000\n",
       "mean         6.906900\n",
       "std         21.456544\n",
       "min          1.000000\n",
       "1%           1.000000\n",
       "5%           1.000000\n",
       "10%          1.000000\n",
       "25%          1.000000\n",
       "50%          2.000000\n",
       "75%          5.000000\n",
       "95%         30.000000\n",
       "99%         39.000000\n",
       "max       1250.000000\n",
       "Name: minimum_nights, dtype: float64"
      ]
     },
     "execution_count": 6,
     "metadata": {},
     "output_type": "execute_result"
    }
   ],
   "source": [
    "df['minimum_nights'].describe(percentiles=(0.01, 0.05, 0.1, 0.25, 0.5, 0.75, 0.95, 0.99))"
   ]
  },
  {
   "cell_type": "code",
   "execution_count": 7,
   "id": "5379a1d8",
   "metadata": {},
   "outputs": [],
   "source": [
    "# Drop outliers in minimum_nights\n",
    "min_days = 1\n",
    "max_days = 35\n",
    "idx = df['minimum_nights'].between(min_days, max_days)\n",
    "df = df[idx].copy()"
   ]
  },
  {
   "cell_type": "markdown",
   "id": "481242b9",
   "metadata": {},
   "source": [
    "#### Convert last_review to datetime"
   ]
  },
  {
   "cell_type": "code",
   "execution_count": 8,
   "id": "068fbfe8",
   "metadata": {},
   "outputs": [],
   "source": [
    "df['last_review'] = pd.to_datetime(df['last_review'])"
   ]
  },
  {
   "cell_type": "markdown",
   "id": "6d3e1f3c",
   "metadata": {},
   "source": [
    "#### Checking changes"
   ]
  },
  {
   "cell_type": "code",
   "execution_count": 9,
   "id": "b831f083",
   "metadata": {},
   "outputs": [
    {
     "name": "stdout",
     "output_type": "stream",
     "text": [
      "<class 'pandas.core.frame.DataFrame'>\n",
      "Int64Index: 18809 entries, 0 to 19999\n",
      "Data columns (total 16 columns):\n",
      " #   Column                          Non-Null Count  Dtype         \n",
      "---  ------                          --------------  -----         \n",
      " 0   id                              18809 non-null  int64         \n",
      " 1   name                            18802 non-null  object        \n",
      " 2   host_id                         18809 non-null  int64         \n",
      " 3   host_name                       18801 non-null  object        \n",
      " 4   neighbourhood_group             18809 non-null  object        \n",
      " 5   neighbourhood                   18809 non-null  object        \n",
      " 6   latitude                        18809 non-null  float64       \n",
      " 7   longitude                       18809 non-null  float64       \n",
      " 8   room_type                       18809 non-null  object        \n",
      " 9   price                           18809 non-null  int64         \n",
      " 10  minimum_nights                  18809 non-null  int64         \n",
      " 11  number_of_reviews               18809 non-null  int64         \n",
      " 12  last_review                     15130 non-null  datetime64[ns]\n",
      " 13  reviews_per_month               15130 non-null  float64       \n",
      " 14  calculated_host_listings_count  18809 non-null  int64         \n",
      " 15  availability_365                18809 non-null  int64         \n",
      "dtypes: datetime64[ns](1), float64(3), int64(7), object(5)\n",
      "memory usage: 2.4+ MB\n"
     ]
    }
   ],
   "source": [
    "df.info()"
   ]
  },
  {
   "cell_type": "markdown",
   "id": "c2613846",
   "metadata": {},
   "source": [
    "### Terminate the run\n",
    "\n",
    "Close the notebook using (File -> Close and Halt). Then, in\n",
    " the main Jupyter notebook page, click Quit in the upper\n",
    " right to stop Jupyter. This will also terminate the mlflow run.\n",
    " **Do not use Ctrl + C**"
   ]
  },
  {
   "cell_type": "code",
   "execution_count": 10,
   "id": "d2e8d0f6",
   "metadata": {},
   "outputs": [
    {
     "data": {
      "text/html": [
       "<br/>Waiting for W&B process to finish, PID 154<br/>Program ended successfully."
      ],
      "text/plain": [
       "<IPython.core.display.HTML object>"
      ]
     },
     "metadata": {},
     "output_type": "display_data"
    },
    {
     "data": {
      "application/vnd.jupyter.widget-view+json": {
       "model_id": "",
       "version_major": 2,
       "version_minor": 0
      },
      "text/plain": [
       "VBox(children=(Label(value=' 0.05MB of 0.05MB uploaded (0.01MB deduped)\\r'), FloatProgress(value=1.0, max=1.0)…"
      ]
     },
     "metadata": {},
     "output_type": "display_data"
    },
    {
     "data": {
      "text/html": [
       "Find user logs for this run at: <code>/opt/steps/src/eda/wandb/run-20220202_035555-1fdlbad5/logs/debug.log</code>"
      ],
      "text/plain": [
       "<IPython.core.display.HTML object>"
      ]
     },
     "metadata": {},
     "output_type": "display_data"
    },
    {
     "data": {
      "text/html": [
       "Find internal logs for this run at: <code>/opt/steps/src/eda/wandb/run-20220202_035555-1fdlbad5/logs/debug-internal.log</code>"
      ],
      "text/plain": [
       "<IPython.core.display.HTML object>"
      ]
     },
     "metadata": {},
     "output_type": "display_data"
    },
    {
     "data": {
      "text/html": [
       "Synced 5 W&B file(s), 0 media file(s), 3 artifact file(s) and 1 other file(s)"
      ],
      "text/plain": [
       "<IPython.core.display.HTML object>"
      ]
     },
     "metadata": {},
     "output_type": "display_data"
    },
    {
     "data": {
      "text/html": [
       "\n",
       "                    <br/>Synced <strong style=\"color:#cdcd00\">breezy-leaf-4</strong>: <a href=\"https://wandb.ai/ucaiado/nyc_airbnb/runs/1fdlbad5\" target=\"_blank\">https://wandb.ai/ucaiado/nyc_airbnb/runs/1fdlbad5</a><br/>\n",
       "                "
      ],
      "text/plain": [
       "<IPython.core.display.HTML object>"
      ]
     },
     "metadata": {},
     "output_type": "display_data"
    }
   ],
   "source": [
    "run.finish()"
   ]
  },
  {
   "cell_type": "code",
   "execution_count": null,
   "id": "65dd3592",
   "metadata": {},
   "outputs": [],
   "source": []
  }
 ],
 "metadata": {
  "kernelspec": {
   "display_name": "Python 3",
   "language": "python",
   "name": "python3"
  },
  "language_info": {
   "codemirror_mode": {
    "name": "ipython",
    "version": 3
   },
   "file_extension": ".py",
   "mimetype": "text/x-python",
   "name": "python",
   "nbconvert_exporter": "python",
   "pygments_lexer": "ipython3",
   "version": "3.8.12"
  }
 },
 "nbformat": 4,
 "nbformat_minor": 5
}
